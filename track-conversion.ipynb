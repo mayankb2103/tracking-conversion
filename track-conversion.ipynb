{
 "cells": [
  {
   "cell_type": "code",
   "execution_count": 1,
   "metadata": {},
   "outputs": [],
   "source": [
    "import pandas as pd\n",
    "import json"
   ]
  },
  {
   "cell_type": "code",
   "execution_count": 2,
   "metadata": {},
   "outputs": [],
   "source": [
    "df=pd.read_csv(\"data.csv\")"
   ]
  },
  {
   "cell_type": "code",
   "execution_count": 3,
   "metadata": {},
   "outputs": [],
   "source": [
    "frames=df.Frame.unique()"
   ]
  },
  {
   "cell_type": "code",
   "execution_count": 4,
   "metadata": {},
   "outputs": [],
   "source": [
    "resdct=[]\n",
    "for frame in frames:\n",
    "    framedct={\"frame\":int(frame),\"objects\":[]}\n",
    "\n",
    "    df_frame = df[df.Frame==frame]\n",
    "    for object_id in df_frame[\"Object ID\"]:\n",
    "        dfid=df[df[\"Object ID\"]==object_id]\n",
    "        \n",
    "        df2=dfid[dfid.Frame<=frame][[\"X1\",\"Y1\"]]\n",
    "        framedct[\"objects\"].append({\"id\":int(object_id), \"pos\":df2.values.tolist()})\n",
    "    resdct.append(framedct)\n",
    "# print(resdct)\n",
    "with open(\"name.json\",\"w\") as f:\n",
    "    json.dump(resdct,f,indent=4)"
   ]
  },
  {
   "cell_type": "code",
   "execution_count": null,
   "metadata": {},
   "outputs": [],
   "source": []
  }
 ],
 "metadata": {
  "kernelspec": {
   "display_name": "Python 3",
   "language": "python",
   "name": "python3"
  },
  "language_info": {
   "codemirror_mode": {
    "name": "ipython",
    "version": 3
   },
   "file_extension": ".py",
   "mimetype": "text/x-python",
   "name": "python",
   "nbconvert_exporter": "python",
   "pygments_lexer": "ipython3",
   "version": "3.6.9"
  }
 },
 "nbformat": 4,
 "nbformat_minor": 4
}
